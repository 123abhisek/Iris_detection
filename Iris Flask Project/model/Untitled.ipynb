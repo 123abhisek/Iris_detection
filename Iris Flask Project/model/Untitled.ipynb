{
 "cells": [
  {
   "cell_type": "code",
   "execution_count": 7,
   "id": "69641a1e-eaeb-4220-a2bf-4c3e166dfbe3",
   "metadata": {},
   "outputs": [],
   "source": [
    "import pandas as pd\n",
    "import numpy as np"
   ]
  },
  {
   "cell_type": "code",
   "execution_count": 8,
   "id": "a8e4fce4-2db9-4b90-9289-1ea4ef4bef7e",
   "metadata": {},
   "outputs": [],
   "source": [
    "# df = pd.read_csv('data_set.csv')\n",
    "\n",
    "df = pd.read_csv('data_set.csv', encoding='latin-1')\n",
    "df = df.replace('',np.nan)\n",
    "df = df.dropna(axis=\"columns\",how=\"any\")\n"
   ]
  },
  {
   "cell_type": "code",
   "execution_count": 9,
   "id": "18334380-335d-4f52-96fe-09cf22edb5ba",
   "metadata": {},
   "outputs": [
    {
     "data": {
      "text/html": [
       "<div>\n",
       "<style scoped>\n",
       "    .dataframe tbody tr th:only-of-type {\n",
       "        vertical-align: middle;\n",
       "    }\n",
       "\n",
       "    .dataframe tbody tr th {\n",
       "        vertical-align: top;\n",
       "    }\n",
       "\n",
       "    .dataframe thead th {\n",
       "        text-align: right;\n",
       "    }\n",
       "</style>\n",
       "<table border=\"1\" class=\"dataframe\">\n",
       "  <thead>\n",
       "    <tr style=\"text-align: right;\">\n",
       "      <th></th>\n",
       "      <th>Class Name</th>\n",
       "      <th>Varieties</th>\n",
       "      <th>Uses</th>\n",
       "      <th>Petals</th>\n",
       "      <th>Sepals</th>\n",
       "      <th>Flowers</th>\n",
       "      <th>Leaves</th>\n",
       "      <th>Height</th>\n",
       "      <th>Habitat</th>\n",
       "    </tr>\n",
       "  </thead>\n",
       "  <tbody>\n",
       "    <tr>\n",
       "      <th>0</th>\n",
       "      <td>Iris setosa</td>\n",
       "      <td>Bristly Iris</td>\n",
       "      <td>#NAME?</td>\n",
       "      <td>3</td>\n",
       "      <td>3</td>\n",
       "      <td>Large, showy flowers.</td>\n",
       "      <td>Narrow, sword-like leaves.</td>\n",
       "      <td>2-3 feet tall.</td>\n",
       "      <td>Iris setosa is tolerant of many kinds of habit...</td>\n",
       "    </tr>\n",
       "    <tr>\n",
       "      <th>1</th>\n",
       "      <td>Iris versicolor</td>\n",
       "      <td>Blue Iris</td>\n",
       "      <td>#NAME?</td>\n",
       "      <td>3</td>\n",
       "      <td>3</td>\n",
       "      <td>Varies in color from blue to purple.</td>\n",
       "      <td>Broad, flat leaves.</td>\n",
       "      <td>2-4 feet tall.</td>\n",
       "      <td>Meadows, swamps, and woodlands.</td>\n",
       "    </tr>\n",
       "    <tr>\n",
       "      <th>2</th>\n",
       "      <td>Iris virginica</td>\n",
       "      <td>Southern Blue Iris</td>\n",
       "      <td>#NAME?</td>\n",
       "      <td>3</td>\n",
       "      <td>3</td>\n",
       "      <td>Deep blue flowers.</td>\n",
       "      <td>Wide, flat leaves.</td>\n",
       "      <td>2-4 feet tall.</td>\n",
       "      <td>Moist woods and swamps.</td>\n",
       "    </tr>\n",
       "  </tbody>\n",
       "</table>\n",
       "</div>"
      ],
      "text/plain": [
       "        Class Name           Varieties    Uses  Petals  Sepals  \\\n",
       "0      Iris setosa        Bristly Iris  #NAME?       3       3   \n",
       "1  Iris versicolor           Blue Iris  #NAME?       3       3   \n",
       "2   Iris virginica  Southern Blue Iris  #NAME?       3       3   \n",
       "\n",
       "                                Flowers                      Leaves  \\\n",
       "0                 Large, showy flowers.  Narrow, sword-like leaves.   \n",
       "1  Varies in color from blue to purple.         Broad, flat leaves.   \n",
       "2                    Deep blue flowers.          Wide, flat leaves.   \n",
       "\n",
       "           Height                                            Habitat  \n",
       "0  2-3 feet tall.  Iris setosa is tolerant of many kinds of habit...  \n",
       "1  2-4 feet tall.                    Meadows, swamps, and woodlands.  \n",
       "2  2-4 feet tall.                            Moist woods and swamps.  "
      ]
     },
     "execution_count": 9,
     "metadata": {},
     "output_type": "execute_result"
    }
   ],
   "source": [
    "df"
   ]
  },
  {
   "cell_type": "code",
   "execution_count": 10,
   "id": "72dc8d56-0d13-4be5-9fcf-8fe11df05b05",
   "metadata": {},
   "outputs": [
    {
     "data": {
      "text/plain": [
       "Class Name                                          Iris setosa\n",
       "Varieties                                          Bristly Iris\n",
       "Uses                                                     #NAME?\n",
       "Petals                                                        3\n",
       "Sepals                                                        3\n",
       "Flowers                                   Large, showy flowers.\n",
       "Leaves                               Narrow, sword-like leaves.\n",
       "Height                                           2-3 feet tall.\n",
       "Habitat       Iris setosa is tolerant of many kinds of habit...\n",
       "Name: 0, dtype: object"
      ]
     },
     "execution_count": 10,
     "metadata": {},
     "output_type": "execute_result"
    }
   ],
   "source": [
    "df.loc[0,:]"
   ]
  },
  {
   "cell_type": "code",
   "execution_count": 11,
   "id": "c2005395-998e-409c-b0d1-1f77b0bc218b",
   "metadata": {},
   "outputs": [
    {
     "ename": "NameError",
     "evalue": "name 'predicted_class' is not defined",
     "output_type": "error",
     "traceback": [
      "\u001b[1;31m---------------------------------------------------------------------------\u001b[0m",
      "\u001b[1;31mNameError\u001b[0m                                 Traceback (most recent call last)",
      "Cell \u001b[1;32mIn[11], line 1\u001b[0m\n\u001b[1;32m----> 1\u001b[0m Class_Name,Varieties,Facts,Uses,Petals,Sepals,Flowers,Leaves,Height,Habitat \u001b[38;5;241m=\u001b[39m df\u001b[38;5;241m.\u001b[39mloc[\u001b[43mpredicted_class\u001b[49m, :]\n",
      "\u001b[1;31mNameError\u001b[0m: name 'predicted_class' is not defined"
     ]
    }
   ],
   "source": [
    "Class_Name,Varieties,Facts,Uses,Petals,Sepals,Flowers,Leaves,Height,Habitat = df.loc[predicted_class, :]"
   ]
  },
  {
   "cell_type": "code",
   "execution_count": null,
   "id": "c1a32fd8-b254-4ee8-a21c-38574cc339ae",
   "metadata": {},
   "outputs": [],
   "source": []
  }
 ],
 "metadata": {
  "kernelspec": {
   "display_name": "Python 3 (ipykernel)",
   "language": "python",
   "name": "python3"
  },
  "language_info": {
   "codemirror_mode": {
    "name": "ipython",
    "version": 3
   },
   "file_extension": ".py",
   "mimetype": "text/x-python",
   "name": "python",
   "nbconvert_exporter": "python",
   "pygments_lexer": "ipython3",
   "version": "3.11.6"
  }
 },
 "nbformat": 4,
 "nbformat_minor": 5
}
